{
 "cells": [
  {
   "cell_type": "code",
   "execution_count": 2,
   "id": "b1415fbf",
   "metadata": {},
   "outputs": [],
   "source": [
    "import numpy as np\n",
    "import matplotlib.pyplot as plt\n",
    "from sklearn.model_selection import train_test_split\n",
    "from sklearn.linear_model import LinearRegression\n",
    "from sklearn.metrics import mean_squared_error"
   ]
  },
  {
   "cell_type": "code",
   "execution_count": 3,
   "id": "2db48a3c",
   "metadata": {
    "scrolled": true
   },
   "outputs": [
    {
     "name": "stdout",
     "output_type": "stream",
     "text": [
      "[[ 1000]\n",
      " [ 3000]\n",
      " [ 5000]\n",
      " [ 7000]\n",
      " [ 9000]\n",
      " [12000]\n",
      " [15000]\n",
      " [18000]]\n"
     ]
    }
   ],
   "source": [
    "n = np.array([1000,3000,5000,7000,9000,12000,15000,18000]).reshape(-1,1)\n",
    "print(n)"
   ]
  },
  {
   "cell_type": "code",
   "execution_count": 4,
   "id": "bc558a9a",
   "metadata": {},
   "outputs": [
    {
     "name": "stdout",
     "output_type": "stream",
     "text": [
      "[10 20 30 40 50 60 70 80]\n"
     ]
    }
   ],
   "source": [
    "m = np.array([10,20,30,40,50,60,70,80])\n",
    "print(m)"
   ]
  },
  {
   "cell_type": "code",
   "execution_count": 5,
   "id": "b929d83d",
   "metadata": {},
   "outputs": [],
   "source": [
    "x_train,x_test,y_train,y_test = train_test_split(n,m,test_size=0.2,random_state = 42)"
   ]
  },
  {
   "cell_type": "code",
   "execution_count": 6,
   "id": "ad45aadd",
   "metadata": {},
   "outputs": [
    {
     "name": "stdout",
     "output_type": "stream",
     "text": [
      "[20 60]\n",
      "[[ 3000]\n",
      " [12000]]\n",
      "------------------\n",
      "[[ 1000]\n",
      " [18000]\n",
      " [ 5000]\n",
      " [ 9000]\n",
      " [ 7000]\n",
      " [15000]]\n"
     ]
    }
   ],
   "source": [
    "print(y_test)\n",
    "print(x_test)\n",
    "print(\"------------------\")\n",
    "print(x_train)"
   ]
  },
  {
   "cell_type": "code",
   "execution_count": 7,
   "id": "bce0c4e2",
   "metadata": {},
   "outputs": [],
   "source": [
    "model = LinearRegression()"
   ]
  },
  {
   "cell_type": "code",
   "execution_count": 8,
   "id": "8c7d226d",
   "metadata": {},
   "outputs": [
    {
     "data": {
      "text/plain": [
       "LinearRegression()"
      ]
     },
     "execution_count": 8,
     "metadata": {},
     "output_type": "execute_result"
    }
   ],
   "source": [
    "model.fit(x_train,y_train)"
   ]
  },
  {
   "cell_type": "code",
   "execution_count": 9,
   "id": "5b2da77f",
   "metadata": {},
   "outputs": [
    {
     "name": "stdout",
     "output_type": "stream",
     "text": [
      "[21.69294606 58.14107884]\n"
     ]
    }
   ],
   "source": [
    "y_prediction = model.predict(x_test)\n",
    "print(y_prediction)"
   ]
  },
  {
   "cell_type": "code",
   "execution_count": 10,
   "id": "1a7c026b",
   "metadata": {},
   "outputs": [
    {
     "name": "stdout",
     "output_type": "stream",
     "text": [
      "3.160827120745169\n"
     ]
    }
   ],
   "source": [
    "mse = mean_squared_error(y_test,y_prediction)\n",
    "print(mse)"
   ]
  },
  {
   "cell_type": "code",
   "execution_count": 92,
   "id": "3b26c403",
   "metadata": {
    "scrolled": true
   },
   "outputs": [
    {
     "data": {
      "image/png": "[encoded data removed]",
      "text/plain": [
       "<Figure size 432x288 with 1 Axes>"
      ]
     },
     "metadata": {
      "needs_background": "light"
     },
     "output_type": "display_data"
    }
   ],
   "source": [
    "plt.scatter(n,m,color = 'green',label='actual data')\n",
    "plt.xlabel(\"size of the area\",color='red')\n",
    "plt.ylabel(\"price\",color='red')\n",
    "plt.legend()\n",
    "plt.show()"
   ]
  },
  {
   "cell_type": "code",
   "execution_count": null,
   "id": "5fa19e5f",
   "metadata": {},
   "outputs": [],
   "source": [
    "X = np.array([[500], [1000], [1500], [2000], [2500]])  # House size\n",
    "y = np.array([150, 200, 250, 300, 350])               # Price in $1000s\n",
    "\n",
    "\n",
    "model = LinearRegression()\n",
    "model.fit(X, y)\n",
    "\n",
    "\n",
    "predicted_price = model.predict([[1800]])\n",
    "print(predicted_price)\n"
   ]
  },
  {
   "cell_type": "code",
   "execution_count": null,
   "id": "c070c580",
   "metadata": {},
   "outputs": [],
   "source": [
    "A = np.array([[100],[300],[500],[700],[900],[1100]]).reshape(-1,1)\n",
    "B = np.array([11,22,33,44,55,66])"
   ]
  },
  {
   "cell_type": "code",
   "execution_count": null,
   "id": "5ac4272e",
   "metadata": {},
   "outputs": [],
   "source": [
    "x_train,x_test,y_train,y_test = train_test_split(A,B,test_size=0.2,random_state = 42)"
   ]
  },
  {
   "cell_type": "code",
   "execution_count": null,
   "id": "78da23d7",
   "metadata": {},
   "outputs": [],
   "source": [
    "print(y_test)"
   ]
  },
  {
   "cell_type": "code",
   "execution_count": null,
   "id": "5be2f168",
   "metadata": {},
   "outputs": [],
   "source": [
    "model = LinearRegression()"
   ]
  },
  {
   "cell_type": "code",
   "execution_count": null,
   "id": "a85cba23",
   "metadata": {},
   "outputs": [],
   "source": [
    "model.fit(x_train,y_train)"
   ]
  },
  {
   "cell_type": "code",
   "execution_count": null,
   "id": "537e5f6a",
   "metadata": {},
   "outputs": [],
   "source": [
    "y_prd = model.predict(x_test)"
   ]
  },
  {
   "cell_type": "code",
   "execution_count": null,
   "id": "e7d53144",
   "metadata": {},
   "outputs": [],
   "source": [
    "print(y_prd)"
   ]
  },
  {
   "cell_type": "code",
   "execution_count": null,
   "id": "38a9b2b4",
   "metadata": {},
   "outputs": [],
   "source": [
    "# 9/04/2025"
   ]
  },
  {
   "cell_type": "code",
   "execution_count": 29,
   "id": "832afb27",
   "metadata": {},
   "outputs": [],
   "source": [
    "import pandas as pd\n",
    "import numpy as np"
   ]
  },
  {
   "cell_type": "code",
   "execution_count": 30,
   "id": "1103d0b3",
   "metadata": {},
   "outputs": [],
   "source": [
    "np.random.seed(42)\n",
    "num = 100\n",
    "data ={\n",
    "    \"sq root\"        : np.random.randint(800,4000,num),\n",
    "    \"no of bedrooms\" : np.random.randint(1,6,num),\n",
    "    \"no of bathrooms\": np.random.randint(1,3,num),\n",
    "    \"price\"          : np.random.randint(100000,500000,num)\n",
    "}"
   ]
  },
  {
   "cell_type": "code",
   "execution_count": 31,
   "id": "5aba7dcf",
   "metadata": {},
   "outputs": [],
   "source": [
    "df = pd.DataFrame(data)"
   ]
  },
  {
   "cell_type": "code",
   "execution_count": 32,
   "id": "d5e7d87c",
   "metadata": {},
   "outputs": [],
   "source": [
    "df.to_csv(\"random_dataset_house_price.csv\")"
   ]
  },
  {
   "cell_type": "code",
   "execution_count": 33,
   "id": "a18f4739",
   "metadata": {},
   "outputs": [],
   "source": [
    "data1 = pd.read_csv(r\"random_dataset_house_price.csv\")"
   ]
  },
  {
   "cell_type": "code",
   "execution_count": 34,
   "id": "af4744b7",
   "metadata": {},
   "outputs": [
    {
     "data": {
      "text/html": [
       "<div>\n",
       "<style scoped>\n",
       "    .dataframe tbody tr th:only-of-type {\n",
       "        vertical-align: middle;\n",
       "    }\n",
       "\n",
       "    .dataframe tbody tr th {\n",
       "        vertical-align: top;\n",
       "    }\n",
       "\n",
       "    .dataframe thead th {\n",
       "        text-align: right;\n",
       "    }\n",
       "</style>\n",
       "<table border=\"1\" class=\"dataframe\">\n",
       "  <thead>\n",
       "    <tr style=\"text-align: right;\">\n",
       "      <th></th>\n",
       "      <th>Unnamed: 0</th>\n",
       "      <th>sq root</th>\n",
       "      <th>no of bedrooms</th>\n",
       "      <th>no of bathrooms</th>\n",
       "      <th>price</th>\n",
       "    </tr>\n",
       "  </thead>\n",
       "  <tbody>\n",
       "    <tr>\n",
       "      <th>0</th>\n",
       "      <td>0</td>\n",
       "      <td>3974</td>\n",
       "      <td>4</td>\n",
       "      <td>1</td>\n",
       "      <td>274088</td>\n",
       "    </tr>\n",
       "    <tr>\n",
       "      <th>1</th>\n",
       "      <td>1</td>\n",
       "      <td>1660</td>\n",
       "      <td>5</td>\n",
       "      <td>2</td>\n",
       "      <td>369544</td>\n",
       "    </tr>\n",
       "    <tr>\n",
       "      <th>2</th>\n",
       "      <td>2</td>\n",
       "      <td>2094</td>\n",
       "      <td>1</td>\n",
       "      <td>1</td>\n",
       "      <td>480002</td>\n",
       "    </tr>\n",
       "    <tr>\n",
       "      <th>3</th>\n",
       "      <td>3</td>\n",
       "      <td>1930</td>\n",
       "      <td>5</td>\n",
       "      <td>1</td>\n",
       "      <td>273714</td>\n",
       "    </tr>\n",
       "    <tr>\n",
       "      <th>4</th>\n",
       "      <td>4</td>\n",
       "      <td>1895</td>\n",
       "      <td>5</td>\n",
       "      <td>1</td>\n",
       "      <td>115151</td>\n",
       "    </tr>\n",
       "    <tr>\n",
       "      <th>5</th>\n",
       "      <td>5</td>\n",
       "      <td>3892</td>\n",
       "      <td>1</td>\n",
       "      <td>2</td>\n",
       "      <td>166690</td>\n",
       "    </tr>\n",
       "    <tr>\n",
       "      <th>6</th>\n",
       "      <td>6</td>\n",
       "      <td>2438</td>\n",
       "      <td>1</td>\n",
       "      <td>2</td>\n",
       "      <td>104499</td>\n",
       "    </tr>\n",
       "    <tr>\n",
       "      <th>7</th>\n",
       "      <td>7</td>\n",
       "      <td>2969</td>\n",
       "      <td>1</td>\n",
       "      <td>2</td>\n",
       "      <td>106295</td>\n",
       "    </tr>\n",
       "    <tr>\n",
       "      <th>8</th>\n",
       "      <td>8</td>\n",
       "      <td>1266</td>\n",
       "      <td>1</td>\n",
       "      <td>2</td>\n",
       "      <td>483029</td>\n",
       "    </tr>\n",
       "    <tr>\n",
       "      <th>9</th>\n",
       "      <td>9</td>\n",
       "      <td>2038</td>\n",
       "      <td>4</td>\n",
       "      <td>1</td>\n",
       "      <td>488215</td>\n",
       "    </tr>\n",
       "  </tbody>\n",
       "</table>\n",
       "</div>"
      ],
      "text/plain": [
       "   Unnamed: 0  sq root  no of bedrooms  no of bathrooms   price\n",
       "0           0     3974               4                1  274088\n",
       "1           1     1660               5                2  369544\n",
       "2           2     2094               1                1  480002\n",
       "3           3     1930               5                1  273714\n",
       "4           4     1895               5                1  115151\n",
       "5           5     3892               1                2  166690\n",
       "6           6     2438               1                2  104499\n",
       "7           7     2969               1                2  106295\n",
       "8           8     1266               1                2  483029\n",
       "9           9     2038               4                1  488215"
      ]
     },
     "execution_count": 34,
     "metadata": {},
     "output_type": "execute_result"
    }
   ],
   "source": [
    "data1.head(10)"
   ]
  },
  {
   "cell_type": "code",
   "execution_count": 35,
   "id": "657bf05c",
   "metadata": {},
   "outputs": [
    {
     "name": "stdout",
     "output_type": "stream",
     "text": [
      "    sq root  no of bedrooms  no of bathrooms   price\n",
      "0      3974               4                1  274088\n",
      "1      1660               5                2  369544\n",
      "2      2094               1                1  480002\n",
      "3      1930               5                1  273714\n",
      "4      1895               5                1  115151\n",
      "..      ...             ...              ...     ...\n",
      "95     1876               4                1  465890\n",
      "96     1591               2                1  136631\n",
      "97     3064               3                2  342289\n",
      "98     1563               1                1  172991\n",
      "99     3035               5                1  104014\n",
      "\n",
      "[100 rows x 4 columns]\n"
     ]
    }
   ],
   "source": [
    "a = data1[[\"sq root\",\"no of bedrooms\",\"no of bathrooms\",\"price\"]]\n",
    "print(a)"
   ]
  },
  {
   "cell_type": "code",
   "execution_count": null,
   "id": "79cf21a1",
   "metadata": {},
   "outputs": [],
   "source": []
  },
  {
   "cell_type": "code",
   "execution_count": 36,
   "id": "d6d72676",
   "metadata": {},
   "outputs": [
    {
     "name": "stdout",
     "output_type": "stream",
     "text": [
      "0     274088\n",
      "1     369544\n",
      "2     480002\n",
      "3     273714\n",
      "4     115151\n",
      "       ...  \n",
      "95    465890\n",
      "96    136631\n",
      "97    342289\n",
      "98    172991\n",
      "99    104014\n",
      "Name: price, Length: 100, dtype: int64\n"
     ]
    }
   ],
   "source": [
    "b = data1[\"price\"]\n",
    "print(b)"
   ]
  },
  {
   "cell_type": "code",
   "execution_count": 37,
   "id": "8f87128a",
   "metadata": {},
   "outputs": [],
   "source": [
    "from sklearn.model_selection import train_test_split\n",
    "from sklearn.linear_model import LinearRegression"
   ]
  },
  {
   "cell_type": "code",
   "execution_count": 38,
   "id": "cb6d7807",
   "metadata": {},
   "outputs": [],
   "source": [
    "a_train,a_test,b_train,b_test = train_test_split(a,b,test_size = 0.2,random_state = 42)"
   ]
  },
  {
   "cell_type": "code",
   "execution_count": 39,
   "id": "10e1d64f",
   "metadata": {},
   "outputs": [
    {
     "name": "stdout",
     "output_type": "stream",
     "text": [
      "83    224019\n",
      "53    499111\n",
      "70    224123\n",
      "45    207450\n",
      "44    301163\n",
      "39    228391\n",
      "22    233272\n",
      "80    458896\n",
      "10    421184\n",
      "0     274088\n",
      "18    488207\n",
      "30    412252\n",
      "73    398356\n",
      "33    190272\n",
      "90    316386\n",
      "4     115151\n",
      "76    263707\n",
      "77    425352\n",
      "12    243946\n",
      "31    212296\n",
      "Name: price, dtype: int64\n"
     ]
    }
   ],
   "source": [
    "print(b_test)"
   ]
  },
  {
   "cell_type": "code",
   "execution_count": 40,
   "id": "c3015b25",
   "metadata": {},
   "outputs": [
    {
     "name": "stdout",
     "output_type": "stream",
     "text": [
      "55    392890\n",
      "88    281408\n",
      "26    219121\n",
      "42    406208\n",
      "69    287563\n",
      "       ...  \n",
      "60    236672\n",
      "71    405628\n",
      "14    132711\n",
      "92    126641\n",
      "51    305362\n",
      "Name: price, Length: 80, dtype: int64\n"
     ]
    }
   ],
   "source": [
    "print(b_train)"
   ]
  },
  {
   "cell_type": "code",
   "execution_count": 41,
   "id": "241ff93b",
   "metadata": {},
   "outputs": [
    {
     "name": "stdout",
     "output_type": "stream",
     "text": [
      "    sq root  no of bedrooms  no of bathrooms   price\n",
      "83     1001               5                2  224019\n",
      "53     1400               4                2  499111\n",
      "70     3952               4                1  224123\n",
      "45     3679               1                1  207450\n",
      "44     2067               3                2  301163\n",
      "39     3805               1                1  228391\n",
      "22     2015               1                2  233272\n",
      "80     3577               3                1  458896\n",
      "10     1130               3                1  421184\n",
      "0      3974               4                1  274088\n",
      "18     3191               2                2  488207\n",
      "30     3704               3                1  412252\n",
      "73     3873               1                1  398356\n",
      "33     3358               5                1  190272\n",
      "90     1816               4                2  316386\n",
      "4      1895               5                1  115151\n",
      "76     1929               1                1  263707\n",
      "77     2300               4                1  425352\n",
      "12     2935               1                1  243946\n",
      "31     1274               1                2  212296\n"
     ]
    }
   ],
   "source": [
    "print(a_test)"
   ]
  },
  {
   "cell_type": "code",
   "execution_count": 42,
   "id": "6fff9c26",
   "metadata": {},
   "outputs": [
    {
     "name": "stdout",
     "output_type": "stream",
     "text": [
      "    sq root  no of bedrooms  no of bathrooms   price\n",
      "55     2861               3                2  392890\n",
      "88     1255               3                2  281408\n",
      "26     1259               5                1  219121\n",
      "42     1362               4                1  406208\n",
      "69     3053               2                2  287563\n",
      "..      ...             ...              ...     ...\n",
      "60     3745               5                2  236672\n",
      "71     2755               1                1  405628\n",
      "14     3719               3                1  132711\n",
      "92     3567               1                2  126641\n",
      "51     2097               3                2  305362\n",
      "\n",
      "[80 rows x 4 columns]\n"
     ]
    }
   ],
   "source": [
    "print(a_train)"
   ]
  },
  {
   "cell_type": "code",
   "execution_count": 43,
   "id": "0efcd734",
   "metadata": {},
   "outputs": [],
   "source": [
    "model = LinearRegression()"
   ]
  },
  {
   "cell_type": "code",
   "execution_count": 44,
   "id": "82fe718d",
   "metadata": {},
   "outputs": [
    {
     "data": {
      "text/plain": [
       "LinearRegression()"
      ]
     },
     "execution_count": 44,
     "metadata": {},
     "output_type": "execute_result"
    }
   ],
   "source": [
    "model.fit(a_train,b_train)"
   ]
  },
  {
   "cell_type": "code",
   "execution_count": 45,
   "id": "6fa491e2",
   "metadata": {},
   "outputs": [],
   "source": [
    "# now we have to fine prediction"
   ]
  },
  {
   "cell_type": "code",
   "execution_count": 46,
   "id": "66b589f0",
   "metadata": {},
   "outputs": [
    {
     "name": "stdout",
     "output_type": "stream",
     "text": [
      "[224019. 499111. 224123. 207450. 301163. 228391. 233272. 458896. 421184.\n",
      " 274088. 488207. 412252. 398356. 190272. 316386. 115151. 263707. 425352.\n",
      " 243946. 212296.]\n"
     ]
    }
   ],
   "source": [
    "b_prediction =model.predict(a_test)\n",
    "print(b_prediction)"
   ]
  },
  {
   "cell_type": "code",
   "execution_count": 47,
   "id": "3fa96f39",
   "metadata": {},
   "outputs": [
    {
     "name": "stdout",
     "output_type": "stream",
     "text": [
      "8.057400910756531e-21\n"
     ]
    }
   ],
   "source": [
    "msr =mean_squared_error(b_test,b_prediction)\n",
    "print(msr)"
   ]
  },
  {
   "cell_type": "code",
   "execution_count": 48,
   "id": "b01b41b7",
   "metadata": {},
   "outputs": [],
   "source": [
    "# 10/04/2025"
   ]
  },
  {
   "cell_type": "code",
   "execution_count": 49,
   "id": "117335ca",
   "metadata": {},
   "outputs": [],
   "source": [
    "import seaborn as sns"
   ]
  },
  {
   "cell_type": "code",
   "execution_count": 50,
   "id": "22988ab0",
   "metadata": {},
   "outputs": [],
   "source": [
    "data ={\n",
    "    \"data\"    : np.random.randint(100),\n",
    "    \"data1\"   : np.random.randint(100),\n",
    "    \"data2\"   : np.random.randint(100),\n",
    "    \"target\"  : np.random.choice([0,1],size= 100 )\n",
    "}"
   ]
  },
  {
   "cell_type": "code",
   "execution_count": 51,
   "id": "2ce7ac7a",
   "metadata": {},
   "outputs": [],
   "source": [
    "dataf = pd.DataFrame(data)"
   ]
  },
  {
   "cell_type": "code",
   "execution_count": 52,
   "id": "8f394db9",
   "metadata": {},
   "outputs": [
    {
     "name": "stdout",
     "output_type": "stream",
     "text": [
      "    data  data1  data2  target\n",
      "0     85     22     65       0\n",
      "1     85     22     65       0\n",
      "2     85     22     65       1\n",
      "3     85     22     65       1\n",
      "4     85     22     65       1\n",
      "..   ...    ...    ...     ...\n",
      "95    85     22     65       1\n",
      "96    85     22     65       1\n",
      "97    85     22     65       0\n",
      "98    85     22     65       1\n",
      "99    85     22     65       0\n",
      "\n",
      "[100 rows x 4 columns]\n"
     ]
    }
   ],
   "source": [
    "print(dataf)"
   ]
  },
  {
   "cell_type": "code",
   "execution_count": 53,
   "id": "51ab20ff",
   "metadata": {},
   "outputs": [
    {
     "name": "stdout",
     "output_type": "stream",
     "text": [
      "    data  data1  data2\n",
      "0     85     22     65\n",
      "1     85     22     65\n",
      "2     85     22     65\n",
      "3     85     22     65\n",
      "4     85     22     65\n",
      "..   ...    ...    ...\n",
      "95    85     22     65\n",
      "96    85     22     65\n",
      "97    85     22     65\n",
      "98    85     22     65\n",
      "99    85     22     65\n",
      "\n",
      "[100 rows x 3 columns]\n"
     ]
    }
   ],
   "source": [
    "x=dataf.drop(columns=[\"target\"])\n",
    "print(x)"
   ]
  },
  {
   "cell_type": "code",
   "execution_count": 54,
   "id": "8159dcba",
   "metadata": {},
   "outputs": [
    {
     "name": "stdout",
     "output_type": "stream",
     "text": [
      "0     0\n",
      "1     0\n",
      "2     1\n",
      "3     1\n",
      "4     1\n",
      "     ..\n",
      "95    1\n",
      "96    1\n",
      "97    0\n",
      "98    1\n",
      "99    0\n",
      "Name: target, Length: 100, dtype: int32\n"
     ]
    }
   ],
   "source": [
    "y = dataf[\"target\"]\n",
    "print(y)"
   ]
  },
  {
   "cell_type": "code",
   "execution_count": 55,
   "id": "e9c55fa6",
   "metadata": {},
   "outputs": [],
   "source": [
    "x_train,x_test,y_train,y_test=train_test_split(x,y,test_size=0.2,random_state=42)"
   ]
  },
  {
   "cell_type": "code",
   "execution_count": 56,
   "id": "c07b2875",
   "metadata": {},
   "outputs": [
    {
     "name": "stdout",
     "output_type": "stream",
     "text": [
      "83    1\n",
      "53    1\n",
      "70    1\n",
      "45    1\n",
      "44    0\n",
      "39    1\n",
      "22    1\n",
      "80    0\n",
      "10    1\n",
      "0     0\n",
      "18    1\n",
      "30    1\n",
      "73    1\n",
      "33    1\n",
      "90    0\n",
      "4     1\n",
      "76    1\n",
      "77    1\n",
      "12    0\n",
      "31    1\n",
      "Name: target, dtype: int32\n"
     ]
    }
   ],
   "source": [
    "print(y_test)"
   ]
  },
  {
   "cell_type": "code",
   "execution_count": 57,
   "id": "297538ae",
   "metadata": {},
   "outputs": [],
   "source": [
    "from sklearn.preprocessing import StandardScaler\n",
    "from sklearn.ensemble import RandomForestClassifier"
   ]
  },
  {
   "cell_type": "code",
   "execution_count": 58,
   "id": "ae884b69",
   "metadata": {},
   "outputs": [],
   "source": [
    "# confucion matrix\n",
    "## =tn+yp / tn+yn+yn\n"
   ]
  },
  {
   "cell_type": "code",
   "execution_count": null,
   "id": "e94d6aba",
   "metadata": {},
   "outputs": [],
   "source": []
  },
  {
   "cell_type": "code",
   "execution_count": 59,
   "id": "db5a8a55",
   "metadata": {},
   "outputs": [],
   "source": [
    "scaler = StandardScaler()"
   ]
  },
  {
   "cell_type": "code",
   "execution_count": 60,
   "id": "e30ba437",
   "metadata": {},
   "outputs": [],
   "source": [
    "x_train = scaler.fit_transform(x_train)\n",
    "x_test = scaler.transform(x_test)"
   ]
  },
  {
   "cell_type": "code",
   "execution_count": 61,
   "id": "1c45f2a4",
   "metadata": {},
   "outputs": [
    {
     "data": {
      "text/plain": [
       "RandomForestClassifier(random_state=42)"
      ]
     },
     "execution_count": 61,
     "metadata": {},
     "output_type": "execute_result"
    }
   ],
   "source": [
    "model = RandomForestClassifier(n_estimators=100,random_state =42)\n",
    "model.fit(x_train,y_train)"
   ]
  },
  {
   "cell_type": "code",
   "execution_count": 62,
   "id": "88a032e0",
   "metadata": {},
   "outputs": [
    {
     "name": "stdout",
     "output_type": "stream",
     "text": [
      "[1 1 1 1 1 1 1 1 1 1 1 1 1 1 1 1 1 1 1 1]\n"
     ]
    }
   ],
   "source": [
    "y_pre =model.predict(x_test)\n",
    "print(y_pre)"
   ]
  },
  {
   "cell_type": "code",
   "execution_count": 63,
   "id": "9109c014",
   "metadata": {},
   "outputs": [
    {
     "name": "stdout",
     "output_type": "stream",
     "text": [
      "[1]\n"
     ]
    }
   ],
   "source": [
    "new_sample = np.array([[1.3,0.85,0.5]])\n",
    "scaler.transform(new_sample)\n",
    "sample_predict = model.predict(new_sample)\n",
    "print(sample_predict)\n"
   ]
  },
  {
   "cell_type": "markdown",
   "id": "34f43052",
   "metadata": {},
   "source": [
    "# Car Price Prediction"
   ]
  },
  {
   "cell_type": "markdown",
   "id": "07c15901",
   "metadata": {},
   "source": [
    "## Mini Project "
   ]
  },
  {
   "cell_type": "code",
   "execution_count": 64,
   "id": "91269ecb",
   "metadata": {},
   "outputs": [],
   "source": [
    "import numpy as np\n",
    "import matplotlib.pyplot as plt\n",
    "import pandas as pd\n",
    "import seaborn as sns\n",
    "from sklearn.model_selection import train_test_split\n",
    "from sklearn.linear_model import LinearRegression\n",
    "from sklearn.linear_model import Lasso\n",
    "from sklearn import metrics"
   ]
  },
  {
   "cell_type": "markdown",
   "id": "bb5ecb37",
   "metadata": {},
   "source": [
    "## Data collection and processing"
   ]
  },
  {
   "cell_type": "code",
   "execution_count": 65,
   "id": "dd7bd157",
   "metadata": {},
   "outputs": [
    {
     "name": "stdout",
     "output_type": "stream",
     "text": [
      "  Car_Name  Year  Selling_Price  Present_Price  Kms_Driven Fuel_Type  \\\n",
      "0     ritz  2014           3.35           5.59       27000    Petrol   \n",
      "1      sx4  2013           4.75           9.54       43000    Diesel   \n",
      "2     ciaz  2017           7.25           9.85        6900    Petrol   \n",
      "3  wagon r  2011           2.85           4.15        5200    Petrol   \n",
      "4    swift  2014           4.60           6.87       42450    Diesel   \n",
      "\n",
      "  Seller_Type Transmission  Owner  \n",
      "0      Dealer       Manual      0  \n",
      "1      Dealer       Manual      0  \n",
      "2      Dealer       Manual      0  \n",
      "3      Dealer       Manual      0  \n",
      "4      Dealer       Manual      0  \n"
     ]
    }
   ],
   "source": [
    "file =pd.read_csv(r\"C:\\Users\\ms900\\OneDrive\\Desktop\\car data.csv\")\n",
    "print(file.head())"
   ]
  },
  {
   "cell_type": "code",
   "execution_count": 66,
   "id": "6df97ac3",
   "metadata": {},
   "outputs": [
    {
     "data": {
      "text/html": [
       "<div>\n",
       "<style scoped>\n",
       "    .dataframe tbody tr th:only-of-type {\n",
       "        vertical-align: middle;\n",
       "    }\n",
       "\n",
       "    .dataframe tbody tr th {\n",
       "        vertical-align: top;\n",
       "    }\n",
       "\n",
       "    .dataframe thead th {\n",
       "        text-align: right;\n",
       "    }\n",
       "</style>\n",
       "<table border=\"1\" class=\"dataframe\">\n",
       "  <thead>\n",
       "    <tr style=\"text-align: right;\">\n",
       "      <th></th>\n",
       "      <th>Car_Name</th>\n",
       "      <th>Year</th>\n",
       "      <th>Selling_Price</th>\n",
       "      <th>Present_Price</th>\n",
       "      <th>Kms_Driven</th>\n",
       "      <th>Fuel_Type</th>\n",
       "      <th>Seller_Type</th>\n",
       "      <th>Transmission</th>\n",
       "      <th>Owner</th>\n",
       "    </tr>\n",
       "  </thead>\n",
       "  <tbody>\n",
       "    <tr>\n",
       "      <th>0</th>\n",
       "      <td>ritz</td>\n",
       "      <td>2014</td>\n",
       "      <td>3.35</td>\n",
       "      <td>5.59</td>\n",
       "      <td>27000</td>\n",
       "      <td>Petrol</td>\n",
       "      <td>Dealer</td>\n",
       "      <td>Manual</td>\n",
       "      <td>0</td>\n",
       "    </tr>\n",
       "    <tr>\n",
       "      <th>1</th>\n",
       "      <td>sx4</td>\n",
       "      <td>2013</td>\n",
       "      <td>4.75</td>\n",
       "      <td>9.54</td>\n",
       "      <td>43000</td>\n",
       "      <td>Diesel</td>\n",
       "      <td>Dealer</td>\n",
       "      <td>Manual</td>\n",
       "      <td>0</td>\n",
       "    </tr>\n",
       "    <tr>\n",
       "      <th>2</th>\n",
       "      <td>ciaz</td>\n",
       "      <td>2017</td>\n",
       "      <td>7.25</td>\n",
       "      <td>9.85</td>\n",
       "      <td>6900</td>\n",
       "      <td>Petrol</td>\n",
       "      <td>Dealer</td>\n",
       "      <td>Manual</td>\n",
       "      <td>0</td>\n",
       "    </tr>\n",
       "    <tr>\n",
       "      <th>3</th>\n",
       "      <td>wagon r</td>\n",
       "      <td>2011</td>\n",
       "      <td>2.85</td>\n",
       "      <td>4.15</td>\n",
       "      <td>5200</td>\n",
       "      <td>Petrol</td>\n",
       "      <td>Dealer</td>\n",
       "      <td>Manual</td>\n",
       "      <td>0</td>\n",
       "    </tr>\n",
       "    <tr>\n",
       "      <th>4</th>\n",
       "      <td>swift</td>\n",
       "      <td>2014</td>\n",
       "      <td>4.60</td>\n",
       "      <td>6.87</td>\n",
       "      <td>42450</td>\n",
       "      <td>Diesel</td>\n",
       "      <td>Dealer</td>\n",
       "      <td>Manual</td>\n",
       "      <td>0</td>\n",
       "    </tr>\n",
       "  </tbody>\n",
       "</table>\n",
       "</div>"
      ],
      "text/plain": [
       "  Car_Name  Year  Selling_Price  Present_Price  Kms_Driven Fuel_Type  \\\n",
       "0     ritz  2014           3.35           5.59       27000    Petrol   \n",
       "1      sx4  2013           4.75           9.54       43000    Diesel   \n",
       "2     ciaz  2017           7.25           9.85        6900    Petrol   \n",
       "3  wagon r  2011           2.85           4.15        5200    Petrol   \n",
       "4    swift  2014           4.60           6.87       42450    Diesel   \n",
       "\n",
       "  Seller_Type Transmission  Owner  \n",
       "0      Dealer       Manual      0  \n",
       "1      Dealer       Manual      0  \n",
       "2      Dealer       Manual      0  \n",
       "3      Dealer       Manual      0  \n",
       "4      Dealer       Manual      0  "
      ]
     },
     "execution_count": 66,
     "metadata": {},
     "output_type": "execute_result"
    }
   ],
   "source": [
    "frame =pd.DataFrame(file)\n",
    "frame.head()"
   ]
  },
  {
   "cell_type": "code",
   "execution_count": 67,
   "id": "2afe8c0e",
   "metadata": {},
   "outputs": [
    {
     "data": {
      "text/plain": [
       "(301, 9)"
      ]
     },
     "execution_count": 67,
     "metadata": {},
     "output_type": "execute_result"
    }
   ],
   "source": [
    "frame.shape"
   ]
  },
  {
   "cell_type": "markdown",
   "id": "194edec1",
   "metadata": {},
   "source": [
    "### getting dome information about the dataset"
   ]
  },
  {
   "cell_type": "code",
   "execution_count": 68,
   "id": "459b11b1",
   "metadata": {},
   "outputs": [
    {
     "name": "stdout",
     "output_type": "stream",
     "text": [
      "<class 'pandas.core.frame.DataFrame'>\n",
      "RangeIndex: 301 entries, 0 to 300\n",
      "Data columns (total 9 columns):\n",
      " #   Column         Non-Null Count  Dtype  \n",
      "---  ------         --------------  -----  \n",
      " 0   Car_Name       301 non-null    object \n",
      " 1   Year           301 non-null    int64  \n",
      " 2   Selling_Price  301 non-null    float64\n",
      " 3   Present_Price  301 non-null    float64\n",
      " 4   Kms_Driven     301 non-null    int64  \n",
      " 5   Fuel_Type      301 non-null    object \n",
      " 6   Seller_Type    301 non-null    object \n",
      " 7   Transmission   301 non-null    object \n",
      " 8   Owner          301 non-null    int64  \n",
      "dtypes: float64(2), int64(3), object(4)\n",
      "memory usage: 21.3+ KB\n"
     ]
    }
   ],
   "source": [
    "frame.info()"
   ]
  },
  {
   "cell_type": "code",
   "execution_count": 69,
   "id": "de61306f",
   "metadata": {},
   "outputs": [],
   "source": [
    "## checking no of missin gvalues"
   ]
  },
  {
   "cell_type": "code",
   "execution_count": 70,
   "id": "c13c83a0",
   "metadata": {},
   "outputs": [
    {
     "data": {
      "text/plain": [
       "Car_Name         0\n",
       "Year             0\n",
       "Selling_Price    0\n",
       "Present_Price    0\n",
       "Kms_Driven       0\n",
       "Fuel_Type        0\n",
       "Seller_Type      0\n",
       "Transmission     0\n",
       "Owner            0\n",
       "dtype: int64"
      ]
     },
     "execution_count": 70,
     "metadata": {},
     "output_type": "execute_result"
    }
   ],
   "source": [
    "frame.isnull().sum()"
   ]
  },
  {
   "cell_type": "code",
   "execution_count": 71,
   "id": "48901e07",
   "metadata": {},
   "outputs": [],
   "source": [
    "# checking the distribution of categorical data"
   ]
  },
  {
   "cell_type": "code",
   "execution_count": 72,
   "id": "d3dfb814",
   "metadata": {},
   "outputs": [
    {
     "name": "stdout",
     "output_type": "stream",
     "text": [
      "    Car_Name  Year  Selling_Price  Present_Price  Kms_Driven Fuel_Type  \\\n",
      "0       ritz  2014           3.35           5.59       27000    Petrol   \n",
      "1        sx4  2013           4.75           9.54       43000    Diesel   \n",
      "2       ciaz  2017           7.25           9.85        6900    Petrol   \n",
      "3    wagon r  2011           2.85           4.15        5200    Petrol   \n",
      "4      swift  2014           4.60           6.87       42450    Diesel   \n",
      "..       ...   ...            ...            ...         ...       ...   \n",
      "296     city  2016           9.50          11.60       33988    Diesel   \n",
      "297     brio  2015           4.00           5.90       60000    Petrol   \n",
      "298     city  2009           3.35          11.00       87934    Petrol   \n",
      "299     city  2017          11.50          12.50        9000    Diesel   \n",
      "300     brio  2016           5.30           5.90        5464    Petrol   \n",
      "\n",
      "    Seller_Type Transmission  Owner  \n",
      "0        Dealer       Manual      0  \n",
      "1        Dealer       Manual      0  \n",
      "2        Dealer       Manual      0  \n",
      "3        Dealer       Manual      0  \n",
      "4        Dealer       Manual      0  \n",
      "..          ...          ...    ...  \n",
      "296      Dealer       Manual      0  \n",
      "297      Dealer       Manual      0  \n",
      "298      Dealer       Manual      0  \n",
      "299      Dealer       Manual      0  \n",
      "300      Dealer       Manual      0  \n",
      "\n",
      "[301 rows x 9 columns]\n"
     ]
    }
   ],
   "source": [
    "print(frame)"
   ]
  },
  {
   "cell_type": "code",
   "execution_count": 73,
   "id": "d9eec9bb",
   "metadata": {},
   "outputs": [
    {
     "name": "stdout",
     "output_type": "stream",
     "text": [
      "Petrol    239\n",
      "Diesel     60\n",
      "CNG         2\n",
      "Name: Fuel_Type, dtype: int64\n"
     ]
    }
   ],
   "source": [
    "print(frame.Fuel_Type.value_counts())"
   ]
  },
  {
   "cell_type": "code",
   "execution_count": 74,
   "id": "e2375ca7",
   "metadata": {},
   "outputs": [
    {
     "name": "stdout",
     "output_type": "stream",
     "text": [
      "Dealer        195\n",
      "Individual    106\n",
      "Name: Seller_Type, dtype: int64\n"
     ]
    }
   ],
   "source": [
    "print(frame.Seller_Type.value_counts())"
   ]
  },
  {
   "cell_type": "code",
   "execution_count": 75,
   "id": "f4d3b82e",
   "metadata": {},
   "outputs": [
    {
     "name": "stdout",
     "output_type": "stream",
     "text": [
      "Manual       261\n",
      "Automatic     40\n",
      "Name: Transmission, dtype: int64\n"
     ]
    }
   ],
   "source": [
    "print(frame.Transmission.value_counts())"
   ]
  },
  {
   "cell_type": "markdown",
   "id": "1a189119",
   "metadata": {},
   "source": [
    "### Encoding the Categorical values"
   ]
  },
  {
   "cell_type": "code",
   "execution_count": 76,
   "id": "816850a7",
   "metadata": {},
   "outputs": [],
   "source": [
    "# encoding the Fuel_Type,Seller_Type,Transmission\n",
    "# replce the values\n",
    "frame.replace({\"Fuel_Type\":{\"Petrol\":0 ,\"Diesel\" :1,\"CNG\":2}},inplace=True)\n",
    "frame.replace({\"Seller_Type\" : {\"Dealer\":0,\"Individual\":1}},inplace = True)\n",
    "frame.replace({\"Transmission\":{\"Manual\":0,\"Automatic\":1}},inplace=True)"
   ]
  },
  {
   "cell_type": "code",
   "execution_count": 77,
   "id": "450774fb",
   "metadata": {},
   "outputs": [
    {
     "name": "stdout",
     "output_type": "stream",
     "text": [
      "    Car_Name  Year  Selling_Price  Present_Price  Kms_Driven  Fuel_Type  \\\n",
      "0       ritz  2014           3.35           5.59       27000          0   \n",
      "1        sx4  2013           4.75           9.54       43000          1   \n",
      "2       ciaz  2017           7.25           9.85        6900          0   \n",
      "3    wagon r  2011           2.85           4.15        5200          0   \n",
      "4      swift  2014           4.60           6.87       42450          1   \n",
      "..       ...   ...            ...            ...         ...        ...   \n",
      "296     city  2016           9.50          11.60       33988          1   \n",
      "297     brio  2015           4.00           5.90       60000          0   \n",
      "298     city  2009           3.35          11.00       87934          0   \n",
      "299     city  2017          11.50          12.50        9000          1   \n",
      "300     brio  2016           5.30           5.90        5464          0   \n",
      "\n",
      "     Seller_Type  Transmission  Owner  \n",
      "0              0             0      0  \n",
      "1              0             0      0  \n",
      "2              0             0      0  \n",
      "3              0             0      0  \n",
      "4              0             0      0  \n",
      "..           ...           ...    ...  \n",
      "296            0             0      0  \n",
      "297            0             0      0  \n",
      "298            0             0      0  \n",
      "299            0             0      0  \n",
      "300            0             0      0  \n",
      "\n",
      "[301 rows x 9 columns]\n"
     ]
    }
   ],
   "source": [
    "print(frame)"
   ]
  },
  {
   "cell_type": "markdown",
   "id": "e9eb40ad",
   "metadata": {},
   "source": [
    "### split the data for train and test method"
   ]
  },
  {
   "cell_type": "code",
   "execution_count": 78,
   "id": "33617ef1",
   "metadata": {},
   "outputs": [
    {
     "data": {
      "text/plain": [
       "0    3.35\n",
       "1    4.75\n",
       "2    7.25\n",
       "3    2.85\n",
       "4    4.60\n",
       "5    9.25\n",
       "6    6.75\n",
       "7    6.50\n",
       "8    8.75\n",
       "9    7.45\n",
       "Name: Selling_Price, dtype: float64"
      ]
     },
     "execution_count": 78,
     "metadata": {},
     "output_type": "execute_result"
    }
   ],
   "source": [
    "x = frame.drop([\"Car_Name\",\"Selling_Price\"],axis=1)\n",
    "y = frame[\"Selling_Price\"]\n",
    "x.head(10)\n",
    "y.head(10)"
   ]
  },
  {
   "cell_type": "markdown",
   "id": "e4da0fe2",
   "metadata": {},
   "source": [
    "#### spliting the data and target"
   ]
  },
  {
   "cell_type": "code",
   "execution_count": 79,
   "id": "60054546",
   "metadata": {},
   "outputs": [],
   "source": [
    "x_train,x_test,y_train,y_test =train_test_split(x,y,test_size=0.1,random_state = 2) "
   ]
  },
  {
   "cell_type": "code",
   "execution_count": 80,
   "id": "db723844",
   "metadata": {},
   "outputs": [
    {
     "name": "stdout",
     "output_type": "stream",
     "text": [
      "99      9.65\n",
      "161     0.45\n",
      "89      4.75\n",
      "30      3.10\n",
      "232    11.45\n",
      "290     4.50\n",
      "35      2.95\n",
      "7       6.50\n",
      "183     0.27\n",
      "13      6.10\n",
      "269     6.70\n",
      "65      4.75\n",
      "178     0.35\n",
      "258     8.40\n",
      "227     2.55\n",
      "133     0.72\n",
      "130     0.75\n",
      "156     0.48\n",
      "237    11.25\n",
      "262     4.00\n",
      "112     1.15\n",
      "282     8.25\n",
      "164     0.45\n",
      "275    10.90\n",
      "154     0.50\n",
      "29      7.45\n",
      "141     0.60\n",
      "192     0.20\n",
      "216     2.90\n",
      "3       2.85\n",
      "159     0.45\n",
      "Name: Selling_Price, dtype: float64\n"
     ]
    }
   ],
   "source": [
    "print(y_test)"
   ]
  },
  {
   "cell_type": "code",
   "execution_count": 81,
   "id": "31f8950a",
   "metadata": {},
   "outputs": [
    {
     "name": "stdout",
     "output_type": "stream",
     "text": [
      "     Year  Present_Price  Kms_Driven  Fuel_Type  Seller_Type  Transmission  \\\n",
      "99   2010         20.450       50024          1            0             0   \n",
      "161  2014          0.826       23000          0            1             0   \n",
      "89   2014          6.760       40000          0            0             0   \n",
      "30   2012          5.980       51439          1            0             0   \n",
      "232  2015         14.790       12900          0            0             1   \n",
      "290  2014          6.400       19000          0            0             0   \n",
      "35   2011          7.740       49998          2            0             0   \n",
      "7    2015          8.610       33429          1            0             0   \n",
      "183  2013          0.470       21000          0            1             0   \n",
      "13   2015          7.710       26000          0            0             0   \n",
      "269  2015         10.000       18828          0            0             0   \n",
      "65   2014          6.950       45000          1            0             0   \n",
      "178  2014          0.520       19000          0            1             1   \n",
      "258  2015         13.600       25000          0            0             0   \n",
      "227  2011          4.430       57000          0            0             0   \n",
      "133  2016          0.950         500          0            1             0   \n",
      "130  2017          0.870       11000          0            1             0   \n",
      "156  2017          0.520       15000          0            1             0   \n",
      "237  2015         13.600       68000          1            0             0   \n",
      "262  2015          5.800       40023          0            0             0   \n",
      "112  2014          2.400        7000          0            1             0   \n",
      "282  2014         14.000       63000          1            0             0   \n",
      "164  2016          0.540       14000          0            1             0   \n",
      "275  2016         13.600       30753          0            0             1   \n",
      "154  2014          0.880        8000          0            1             0   \n",
      "29   2015         10.380       45000          1            0             0   \n",
      "141  2016          0.800       20000          0            1             0   \n",
      "192  2007          0.750       49000          0            1             0   \n",
      "216  2016          4.430       12500          0            0             0   \n",
      "3    2011          4.150        5200          0            0             0   \n",
      "159  2017          0.510        4000          0            1             1   \n",
      "\n",
      "     Owner  \n",
      "99       0  \n",
      "161      0  \n",
      "89       0  \n",
      "30       0  \n",
      "232      0  \n",
      "290      0  \n",
      "35       0  \n",
      "7        0  \n",
      "183      0  \n",
      "13       0  \n",
      "269      0  \n",
      "65       0  \n",
      "178      0  \n",
      "258      0  \n",
      "227      0  \n",
      "133      0  \n",
      "130      0  \n",
      "156      0  \n",
      "237      0  \n",
      "262      0  \n",
      "112      0  \n",
      "282      0  \n",
      "164      0  \n",
      "275      0  \n",
      "154      0  \n",
      "29       0  \n",
      "141      0  \n",
      "192      1  \n",
      "216      0  \n",
      "3        0  \n",
      "159      0  \n"
     ]
    }
   ],
   "source": [
    "print(x_test)"
   ]
  },
  {
   "cell_type": "markdown",
   "id": "fc63f1de",
   "metadata": {},
   "source": [
    "## LinearRegression Model"
   ]
  },
  {
   "cell_type": "code",
   "execution_count": 82,
   "id": "68e95974",
   "metadata": {},
   "outputs": [],
   "source": [
    "model = LinearRegression()"
   ]
  },
  {
   "cell_type": "code",
   "execution_count": 83,
   "id": "b1008d0b",
   "metadata": {},
   "outputs": [
    {
     "data": {
      "text/plain": [
       "LinearRegression()"
      ]
     },
     "execution_count": 83,
     "metadata": {},
     "output_type": "execute_result"
    }
   ],
   "source": [
    "model.fit(x_train,y_train)"
   ]
  },
  {
   "cell_type": "markdown",
   "id": "993c7220",
   "metadata": {},
   "source": [
    "### Model Evalution"
   ]
  },
  {
   "cell_type": "code",
   "execution_count": 84,
   "id": "8b73aa59",
   "metadata": {},
   "outputs": [],
   "source": [
    "# prediction on training data\n",
    "y_pre = model.predict(x_train)"
   ]
  },
  {
   "cell_type": "code",
   "execution_count": 85,
   "id": "7e6be4c4",
   "metadata": {},
   "outputs": [
    {
     "name": "stdout",
     "output_type": "stream",
     "text": [
      "R sq_Error : 0.8799451660493715\n"
     ]
    }
   ],
   "source": [
    "# R squared error\n",
    "sq_error = metrics.r2_score(y_train,y_pre)\n",
    "print(\"R sq_Error :\",sq_error)"
   ]
  },
  {
   "cell_type": "markdown",
   "id": "5b8ac2ab",
   "metadata": {},
   "source": [
    "## Visualize acutal price and predicting price\n"
   ]
  },
  {
   "cell_type": "code",
   "execution_count": 86,
   "id": "7ad1d97f",
   "metadata": {},
   "outputs": [
    {
     "data": {
      "image/png": "[encoded data removed]",
      "text/plain": [
       "<Figure size 432x288 with 1 Axes>"
      ]
     },
     "metadata": {
      "needs_background": "light"
     },
     "output_type": "display_data"
    }
   ],
   "source": [
    "plt.scatter(y_train,y_pre)\n",
    "plt.plot(color='green')\n",
    "plt.xlabel(\"Actual Price\")\n",
    "plt.ylabel(\"Predicting Price\")\n",
    "plt.show()"
   ]
  },
  {
   "cell_type": "code",
   "execution_count": 87,
   "id": "72156295",
   "metadata": {},
   "outputs": [],
   "source": [
    "# test data prediction\n",
    "y_pre_test = model.predict(x_test)"
   ]
  },
  {
   "cell_type": "code",
   "execution_count": 88,
   "id": "8c8d0e71",
   "metadata": {},
   "outputs": [
    {
     "name": "stdout",
     "output_type": "stream",
     "text": [
      "0.836576671502587\n"
     ]
    }
   ],
   "source": [
    "sq_error = metrics.r2_score(y_test,y_pre_test)\n",
    "print(sq_error)"
   ]
  },
  {
   "cell_type": "code",
   "execution_count": 89,
   "id": "594a6f9a",
   "metadata": {},
   "outputs": [
    {
     "data": {
      "image/png": "[encoded data removed]",
      "text/plain": [
       "<Figure size 432x288 with 1 Axes>"
      ]
     },
     "metadata": {
      "needs_background": "light"
     },
     "output_type": "display_data"
    }
   ],
   "source": [
    "plt.scatter(y_test,y_pre_test)\n",
    "plt.plot(color='green')\n",
    "plt.xlabel(\"Actual Price\")\n",
    "plt.ylabel(\"Predicting Price\")\n",
    "plt.show()"
   ]
  },
  {
   "cell_type": "markdown",
   "id": "0cae3252",
   "metadata": {},
   "source": [
    "# Mini Project 2"
   ]
  },
  {
   "cell_type": "markdown",
   "id": "425df5f7",
   "metadata": {},
   "source": [
    "## Diabetes"
   ]
  },
  {
   "cell_type": "markdown",
   "id": "02fe28e1",
   "metadata": {},
   "source": [
    "## Data Collection and Processing"
   ]
  },
  {
   "cell_type": "code",
   "execution_count": 30,
   "id": "d43f338c",
   "metadata": {},
   "outputs": [],
   "source": [
    "import pandas as pd\n",
    "from sklearn.model_selection import train_test_split\n",
    "from sklearn.ensemble import RandomForestClassifier\n",
    "from sklearn.metrics import mean_squared_error, r2_score\n",
    "import matplotlib.pyplot as plt\n",
    "from sklearn.metrics import classification_report,accuracy_score"
   ]
  },
  {
   "cell_type": "code",
   "execution_count": 2,
   "id": "b94a2322",
   "metadata": {},
   "outputs": [
    {
     "data": {
      "text/html": [
       "<div>\n",
       "<style scoped>\n",
       "    .dataframe tbody tr th:only-of-type {\n",
       "        vertical-align: middle;\n",
       "    }\n",
       "\n",
       "    .dataframe tbody tr th {\n",
       "        vertical-align: top;\n",
       "    }\n",
       "\n",
       "    .dataframe thead th {\n",
       "        text-align: right;\n",
       "    }\n",
       "</style>\n",
       "<table border=\"1\" class=\"dataframe\">\n",
       "  <thead>\n",
       "    <tr style=\"text-align: right;\">\n",
       "      <th></th>\n",
       "      <th>Pregnancies</th>\n",
       "      <th>Glucose</th>\n",
       "      <th>BloodPressure</th>\n",
       "      <th>SkinThickness</th>\n",
       "      <th>Insulin</th>\n",
       "      <th>BMI</th>\n",
       "      <th>DiabetesPedigreeFunction</th>\n",
       "      <th>Age</th>\n",
       "      <th>Outcome</th>\n",
       "    </tr>\n",
       "  </thead>\n",
       "  <tbody>\n",
       "    <tr>\n",
       "      <th>0</th>\n",
       "      <td>6</td>\n",
       "      <td>148</td>\n",
       "      <td>72</td>\n",
       "      <td>35</td>\n",
       "      <td>0</td>\n",
       "      <td>33.6</td>\n",
       "      <td>0.627</td>\n",
       "      <td>50</td>\n",
       "      <td>1</td>\n",
       "    </tr>\n",
       "    <tr>\n",
       "      <th>1</th>\n",
       "      <td>1</td>\n",
       "      <td>85</td>\n",
       "      <td>66</td>\n",
       "      <td>29</td>\n",
       "      <td>0</td>\n",
       "      <td>26.6</td>\n",
       "      <td>0.351</td>\n",
       "      <td>31</td>\n",
       "      <td>0</td>\n",
       "    </tr>\n",
       "    <tr>\n",
       "      <th>2</th>\n",
       "      <td>8</td>\n",
       "      <td>183</td>\n",
       "      <td>64</td>\n",
       "      <td>0</td>\n",
       "      <td>0</td>\n",
       "      <td>23.3</td>\n",
       "      <td>0.672</td>\n",
       "      <td>32</td>\n",
       "      <td>1</td>\n",
       "    </tr>\n",
       "    <tr>\n",
       "      <th>3</th>\n",
       "      <td>1</td>\n",
       "      <td>89</td>\n",
       "      <td>66</td>\n",
       "      <td>23</td>\n",
       "      <td>94</td>\n",
       "      <td>28.1</td>\n",
       "      <td>0.167</td>\n",
       "      <td>21</td>\n",
       "      <td>0</td>\n",
       "    </tr>\n",
       "    <tr>\n",
       "      <th>4</th>\n",
       "      <td>0</td>\n",
       "      <td>137</td>\n",
       "      <td>40</td>\n",
       "      <td>35</td>\n",
       "      <td>168</td>\n",
       "      <td>43.1</td>\n",
       "      <td>2.288</td>\n",
       "      <td>33</td>\n",
       "      <td>1</td>\n",
       "    </tr>\n",
       "    <tr>\n",
       "      <th>...</th>\n",
       "      <td>...</td>\n",
       "      <td>...</td>\n",
       "      <td>...</td>\n",
       "      <td>...</td>\n",
       "      <td>...</td>\n",
       "      <td>...</td>\n",
       "      <td>...</td>\n",
       "      <td>...</td>\n",
       "      <td>...</td>\n",
       "    </tr>\n",
       "    <tr>\n",
       "      <th>763</th>\n",
       "      <td>10</td>\n",
       "      <td>101</td>\n",
       "      <td>76</td>\n",
       "      <td>48</td>\n",
       "      <td>180</td>\n",
       "      <td>32.9</td>\n",
       "      <td>0.171</td>\n",
       "      <td>63</td>\n",
       "      <td>0</td>\n",
       "    </tr>\n",
       "    <tr>\n",
       "      <th>764</th>\n",
       "      <td>2</td>\n",
       "      <td>122</td>\n",
       "      <td>70</td>\n",
       "      <td>27</td>\n",
       "      <td>0</td>\n",
       "      <td>36.8</td>\n",
       "      <td>0.340</td>\n",
       "      <td>27</td>\n",
       "      <td>0</td>\n",
       "    </tr>\n",
       "    <tr>\n",
       "      <th>765</th>\n",
       "      <td>5</td>\n",
       "      <td>121</td>\n",
       "      <td>72</td>\n",
       "      <td>23</td>\n",
       "      <td>112</td>\n",
       "      <td>26.2</td>\n",
       "      <td>0.245</td>\n",
       "      <td>30</td>\n",
       "      <td>0</td>\n",
       "    </tr>\n",
       "    <tr>\n",
       "      <th>766</th>\n",
       "      <td>1</td>\n",
       "      <td>126</td>\n",
       "      <td>60</td>\n",
       "      <td>0</td>\n",
       "      <td>0</td>\n",
       "      <td>30.1</td>\n",
       "      <td>0.349</td>\n",
       "      <td>47</td>\n",
       "      <td>1</td>\n",
       "    </tr>\n",
       "    <tr>\n",
       "      <th>767</th>\n",
       "      <td>1</td>\n",
       "      <td>93</td>\n",
       "      <td>70</td>\n",
       "      <td>31</td>\n",
       "      <td>0</td>\n",
       "      <td>30.4</td>\n",
       "      <td>0.315</td>\n",
       "      <td>23</td>\n",
       "      <td>0</td>\n",
       "    </tr>\n",
       "  </tbody>\n",
       "</table>\n",
       "<p>768 rows × 9 columns</p>\n",
       "</div>"
      ],
      "text/plain": [
       "     Pregnancies  Glucose  BloodPressure  SkinThickness  Insulin   BMI  \\\n",
       "0              6      148             72             35        0  33.6   \n",
       "1              1       85             66             29        0  26.6   \n",
       "2              8      183             64              0        0  23.3   \n",
       "3              1       89             66             23       94  28.1   \n",
       "4              0      137             40             35      168  43.1   \n",
       "..           ...      ...            ...            ...      ...   ...   \n",
       "763           10      101             76             48      180  32.9   \n",
       "764            2      122             70             27        0  36.8   \n",
       "765            5      121             72             23      112  26.2   \n",
       "766            1      126             60              0        0  30.1   \n",
       "767            1       93             70             31        0  30.4   \n",
       "\n",
       "     DiabetesPedigreeFunction  Age  Outcome  \n",
       "0                       0.627   50        1  \n",
       "1                       0.351   31        0  \n",
       "2                       0.672   32        1  \n",
       "3                       0.167   21        0  \n",
       "4                       2.288   33        1  \n",
       "..                        ...  ...      ...  \n",
       "763                     0.171   63        0  \n",
       "764                     0.340   27        0  \n",
       "765                     0.245   30        0  \n",
       "766                     0.349   47        1  \n",
       "767                     0.315   23        0  \n",
       "\n",
       "[768 rows x 9 columns]"
      ]
     },
     "execution_count": 2,
     "metadata": {},
     "output_type": "execute_result"
    }
   ],
   "source": [
    "df = pd.read_csv(r\"C:\\Users\\ms900\\OneDrive\\Desktop\\diabetes.csv\")\n",
    "df"
   ]
  },
  {
   "cell_type": "code",
   "execution_count": 11,
   "id": "44fe6985",
   "metadata": {},
   "outputs": [
    {
     "name": "stdout",
     "output_type": "stream",
     "text": [
      "     Pregnancies  Glucose  BloodPressure  SkinThickness  Insulin   BMI  \\\n",
      "0              6      148             72             35        0  33.6   \n",
      "1              1       85             66             29        0  26.6   \n",
      "2              8      183             64              0        0  23.3   \n",
      "3              1       89             66             23       94  28.1   \n",
      "4              0      137             40             35      168  43.1   \n",
      "..           ...      ...            ...            ...      ...   ...   \n",
      "763           10      101             76             48      180  32.9   \n",
      "764            2      122             70             27        0  36.8   \n",
      "765            5      121             72             23      112  26.2   \n",
      "766            1      126             60              0        0  30.1   \n",
      "767            1       93             70             31        0  30.4   \n",
      "\n",
      "     DiabetesPedigreeFunction  Age  \n",
      "0                       0.627   50  \n",
      "1                       0.351   31  \n",
      "2                       0.672   32  \n",
      "3                       0.167   21  \n",
      "4                       2.288   33  \n",
      "..                        ...  ...  \n",
      "763                     0.171   63  \n",
      "764                     0.340   27  \n",
      "765                     0.245   30  \n",
      "766                     0.349   47  \n",
      "767                     0.315   23  \n",
      "\n",
      "[768 rows x 8 columns]\n",
      "0      1\n",
      "1      0\n",
      "2      1\n",
      "3      0\n",
      "4      1\n",
      "      ..\n",
      "763    0\n",
      "764    0\n",
      "765    0\n",
      "766    1\n",
      "767    0\n",
      "Name: Outcome, Length: 768, dtype: int64\n"
     ]
    }
   ],
   "source": [
    "x = df.drop(\"Outcome\",axis=1)\n",
    "y = df[\"Outcome\"]\n",
    "print(x)\n",
    "print(y)"
   ]
  },
  {
   "cell_type": "markdown",
   "id": "2b94529f",
   "metadata": {},
   "source": [
    "### split the data test and target"
   ]
  },
  {
   "cell_type": "code",
   "execution_count": 23,
   "id": "680077df",
   "metadata": {},
   "outputs": [],
   "source": [
    "X_train, X_test, y_train, y_test = train_test_split(x, y, test_size=0.2, random_state=42)"
   ]
  },
  {
   "cell_type": "code",
   "execution_count": 24,
   "id": "b238911f",
   "metadata": {},
   "outputs": [
    {
     "data": {
      "text/plain": [
       "RandomForestClassifier(random_state=42)"
      ]
     },
     "execution_count": 24,
     "metadata": {},
     "output_type": "execute_result"
    }
   ],
   "source": [
    "model = RandomForestClassifier(n_estimators=100, random_state=42)\n",
    "model.fit(X_train, y_train)"
   ]
  },
  {
   "cell_type": "code",
   "execution_count": 25,
   "id": "cf42912b",
   "metadata": {},
   "outputs": [],
   "source": [
    "y_pred = model.predict(X_test)"
   ]
  },
  {
   "cell_type": "code",
   "execution_count": 28,
   "id": "f2e7ed14",
   "metadata": {},
   "outputs": [],
   "source": [
    "msv = mean_squared_error(y_test,y_pred)"
   ]
  },
  {
   "cell_type": "code",
   "execution_count": 31,
   "id": "a8e1f89a",
   "metadata": {},
   "outputs": [
    {
     "name": "stdout",
     "output_type": "stream",
     "text": [
      "Accuracy: 0.7207792207792207\n"
     ]
    }
   ],
   "source": [
    "print(\"Accuracy:\", accuracy_score(y_test, y_pred))"
   ]
  },
  {
   "cell_type": "code",
   "execution_count": 37,
   "id": "b026f6a1",
   "metadata": {},
   "outputs": [
    {
     "name": "stdout",
     "output_type": "stream",
     "text": [
      "Classification Report:\n",
      "               precision    recall  f1-score   support\n",
      "\n",
      "           0       0.79      0.78      0.78        99\n",
      "           1       0.61      0.62      0.61        55\n",
      "\n",
      "    accuracy                           0.72       154\n",
      "   macro avg       0.70      0.70      0.70       154\n",
      "weighted avg       0.72      0.72      0.72       154\n",
      "\n"
     ]
    }
   ],
   "source": [
    "print(\"Classification Report:\\n\", classification_report(y_test, y_pred))"
   ]
  },
  {
   "cell_type": "code",
   "execution_count": 48,
   "id": "6afecdfe",
   "metadata": {},
   "outputs": [
    {
     "data": {
      "image/png": "[encoded data removed]",
      "text/plain": [
       "<Figure size 720x432 with 1 Axes>"
      ]
     },
     "metadata": {
      "needs_background": "light"
     },
     "output_type": "display_data"
    }
   ],
   "source": [
    "importances = model.feature_importances_\n",
    "features = x.columns\n",
    "plt.figure(figsize=(10,6))\n",
    "plt.barh(features, importances,color=\"lightgreen\")\n",
    "plt.xlabel(\"Feature Importance\",color=\"green\")\n",
    "plt.title(\"Random Forest Feature Importance\",color=\"darkgreen\")\n",
    "plt.show()"
   ]
  },
  {
   "cell_type": "code",
   "execution_count": null,
   "id": "6782a38f",
   "metadata": {},
   "outputs": [],
   "source": []
  },
  {
   "cell_type": "code",
   "execution_count": null,
   "id": "cf17e73a",
   "metadata": {},
   "outputs": [],
   "source": []
  },
  {
   "cell_type": "code",
   "execution_count": null,
   "id": "2f337cbe",
   "metadata": {},
   "outputs": [],
   "source": []
  },
  {
   "cell_type": "code",
   "execution_count": null,
   "id": "e8c7819c",
   "metadata": {},
   "outputs": [],
   "source": []
  },
  {
   "cell_type": "code",
   "execution_count": null,
   "id": "f402269c",
   "metadata": {},
   "outputs": [],
   "source": []
  },
  {
   "cell_type": "code",
   "execution_count": null,
   "id": "e97dc9db",
   "metadata": {},
   "outputs": [],
   "source": []
  },
  {
   "cell_type": "code",
   "execution_count": null,
   "id": "44311e72",
   "metadata": {},
   "outputs": [],
   "source": []
  }
 ],
 "metadata": {
  "kernelspec": {
   "display_name": "Python 3 (ipykernel)",
   "language": "python",
   "name": "python3"
  },
  "language_info": {
   "codemirror_mode": {
    "name": "ipython",
    "version": 3
   },
   "file_extension": ".py",
   "mimetype": "text/x-python",
   "name": "python",
   "nbconvert_exporter": "python",
   "pygments_lexer": "ipython3",
   "version": "3.9.7"
  }
 },
 "nbformat": 4,
 "nbformat_minor": 5
}
